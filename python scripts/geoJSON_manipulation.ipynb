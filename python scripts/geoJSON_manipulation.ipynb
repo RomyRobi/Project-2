{
 "cells": [
  {
   "cell_type": "code",
   "execution_count": 1,
   "metadata": {},
   "outputs": [],
   "source": [
    "#Import Dependencies#\n",
    "import requests\n",
    "import pandas as pd"
   ]
  },
  {
   "cell_type": "code",
   "execution_count": 17,
   "metadata": {},
   "outputs": [
    {
     "data": {
      "text/plain": [
       "{'OBJECTID': 1,\n",
       " 'BoroCode': 3,\n",
       " 'BoroName': 'Brooklyn',\n",
       " 'CountyFIPS': '047',\n",
       " 'NTACode': 'BK88',\n",
       " 'NTAName': 'Borough Park',\n",
       " 'Shape__Area': 54005019.0708466,\n",
       " 'Shape__Length': 39247.2280276521}"
      ]
     },
     "execution_count": 17,
     "metadata": {},
     "output_type": "execute_result"
    }
   ],
   "source": [
    "#JSON request#\n",
    "url=\"http://services5.arcgis.com/GfwWNkhOj9bNBqoJ/arcgis/rest/services/nynta/FeatureServer/0/query?where=1=1&outFields=*&outSR=4326&f=geojson\"\n",
    "response = requests.get(url).json()\n",
    "response[\"features\"][0][\"properties\"]"
   ]
  },
  {
   "cell_type": "code",
   "execution_count": 18,
   "metadata": {},
   "outputs": [
    {
     "name": "stdout",
     "output_type": "stream",
     "text": [
      "195\n",
      "{'OBJECTID': 1, 'BoroCode': 3, 'BoroName': 'Brooklyn', 'CountyFIPS': '047', 'NTACode': 'BK88', 'NTAName': 'Borough Park', 'Shape__Area': 54005019.0708466, 'Shape__Length': 39247.2280276521}\n"
     ]
    },
    {
     "data": {
      "text/plain": [
       "{'OBJECTID': 1,\n",
       " 'BoroCode': 3,\n",
       " 'BoroName': 'Brooklyn',\n",
       " 'CountyFIPS': '047',\n",
       " 'NTACode': 'BK88',\n",
       " 'NTAName': 'Borough Park',\n",
       " 'Shape__Area': 54005019.0708466,\n",
       " 'Shape__Length': 39247.2280276521,\n",
       " 'Price': 50}"
      ]
     },
     "execution_count": 18,
     "metadata": {},
     "output_type": "execute_result"
    }
   ],
   "source": [
    "#data manipulation\n",
    "print(len(response[\"features\"]))\n",
    "print(response[\"features\"][0][\"properties\"])\n",
    "test = response[\"features\"][0][\"properties\"]\n",
    "test[\"Price\"] = 50\n",
    "test\n",
    "response[\"features\"][0][\"properties\"]"
   ]
  },
  {
   "cell_type": "code",
   "execution_count": null,
   "metadata": {},
   "outputs": [],
   "source": []
  }
 ],
 "metadata": {
  "kernelspec": {
   "display_name": "Python 3",
   "language": "python",
   "name": "python3"
  },
  "language_info": {
   "codemirror_mode": {
    "name": "ipython",
    "version": 3
   },
   "file_extension": ".py",
   "mimetype": "text/x-python",
   "name": "python",
   "nbconvert_exporter": "python",
   "pygments_lexer": "ipython3",
   "version": "3.6.5"
  }
 },
 "nbformat": 4,
 "nbformat_minor": 2
}
